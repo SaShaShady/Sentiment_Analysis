{
 "cells": [
  {
   "cell_type": "code",
   "execution_count": 3,
   "metadata": {},
   "outputs": [],
   "source": [
    "import tweepy\n",
    "import re\n",
    "from textblob import TextBlob\n",
    "import matplotlib.pyplot as plt"
   ]
  },
  {
   "cell_type": "code",
   "execution_count": 4,
   "metadata": {},
   "outputs": [],
   "source": [
    "ACCESS_TOKEN = \"--\"\n",
    "ACCESS_SECRET_TOKEN = \"--\"\n",
    "CONSUMER_KEY = \"--\"\n",
    "CONSUMER_SECRET_KEY = \"--\""
   ]
  },
  {
   "cell_type": "code",
   "execution_count": 5,
   "metadata": {},
   "outputs": [],
   "source": [
    "clean_tweets_list = []\n",
    "positive = 0\n",
    "negative = 0\n",
    "neutral = 0"
   ]
  },
  {
   "cell_type": "code",
   "execution_count": 6,
   "metadata": {},
   "outputs": [
    {
     "name": "stdout",
     "output_type": "stream",
     "text": [
      "Enter hashtag to search about : csgo\n",
      "How many tweets to analyze? 10\n"
     ]
    },
    {
     "data": {
      "image/png": "[encoded data removed]",
      "text/plain": [
       "<Figure size 432x288 with 1 Axes>"
      ]
     },
     "metadata": {},
     "output_type": "display_data"
    }
   ],
   "source": [
    "try: \n",
    "    # create OAuthHandler object \n",
    "    auth = tweepy.OAuthHandler(CONSUMER_KEY, CONSUMER_SECRET_KEY) \n",
    "    # set access token and secret \n",
    "    auth.set_access_token(ACCESS_TOKEN, ACCESS_SECRET_TOKEN) \n",
    "    # create tweepy API object to fetch tweets \n",
    "    api = tweepy.API(auth) \n",
    "    \n",
    "    searchTerm = input(\"Enter hashtag to search about : \")\n",
    "    noOfSearchTerms = int(input(\"How many tweets to analyze? \"))\n",
    "\n",
    "    tweets = api.search(q = searchTerm, count = noOfSearchTerms)\n",
    "\n",
    "    for each_tweet in range(len(tweets)):\n",
    "        clean_tweets_list.append(' '.join(re.sub(\"(@[A-Za-z0-9]+)|([^0-9A-Za-z \\t]) |(\\w+:\\/\\/\\S+)\", \" \", tweets[each_tweet].text).split()))\n",
    "    for i in range(len(clean_tweets_list)):    \n",
    "        analysis = TextBlob(clean_tweets_list[i])\n",
    "        # set sentiment \n",
    "        if analysis.sentiment.polarity > 0: \n",
    "            positive+=1\n",
    "        elif analysis.sentiment.polarity == 0: \n",
    "            neutral+=1\n",
    "        else: \n",
    "            negative+=1\n",
    "    labels = ['Positive['+str(positive)+']','Neutral['+str(neutral)+']','Negative['+str(negative)+']']\n",
    "    sizes = [positive,neutral,negative]\n",
    "    colors = ['blue','green','red']\n",
    "    patches,texts = plt.pie(sizes, colors = colors, startangle=90)\n",
    "    plt.legend(patches,labels,loc =\"best\")\n",
    "    plt.title(\"How people are reacting on \" + searchTerm + \" by analyzing \" + str(noOfSearchTerms) + \"Tweets\")\n",
    "    plt.axis('equal')\n",
    "    plt.tight_layout()\n",
    "    plt.show()\n",
    "    \n",
    "except: \n",
    "    print(\"Error: Authentication Failed\") "
   ]
  },
  {
   "cell_type": "code",
   "execution_count": null,
   "metadata": {},
   "outputs": [],
   "source": []
  }
 ],
 "metadata": {
  "kernelspec": {
   "display_name": "Python 3",
   "language": "python",
   "name": "python3"
  },
  "language_info": {
   "codemirror_mode": {
    "name": "ipython",
    "version": 3
   },
   "file_extension": ".py",
   "mimetype": "text/x-python",
   "name": "python",
   "nbconvert_exporter": "python",
   "pygments_lexer": "ipython3",
   "version": "3.6.6"
  }
 },
 "nbformat": 4,
 "nbformat_minor": 4
}
